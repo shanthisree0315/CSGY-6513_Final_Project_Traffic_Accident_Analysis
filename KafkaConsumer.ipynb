{
 "cells": [
  {
   "cell_type": "code",
   "execution_count": null,
   "id": "c12cde74",
   "metadata": {},
   "outputs": [],
   "source": [
    "import time\n",
    "import json\n",
    "from kafka import KafkaConsumer\n",
    "from datetime import datetime\n",
    "import matplotlib.pyplot as plt\n",
    "import threading\n",
    "\n",
    "import pandas as pd\n",
    "import plotly.express as px\n",
    "import plotly.graph_objects as go\n",
    "import plotly\n",
    "\n",
    "\n"
   ]
  },
  {
   "cell_type": "code",
   "execution_count": null,
   "id": "16fd8b1b",
   "metadata": {},
   "outputs": [],
   "source": [
    "brokers='localhost:9092'\n",
    "topic='accident_tmp_input'\n",
    "sleep_time=300\n",
    "offset='earliest'"
   ]
  },
  {
   "cell_type": "code",
   "execution_count": null,
   "id": "bb50e386",
   "metadata": {},
   "outputs": [],
   "source": [
    "consumer = KafkaConsumer(bootstrap_servers=brokers, auto_offset_reset=offset,consumer_timeout_ms=1000)\n",
    "consumer.subscribe([topic])"
   ]
  },
  {
   "cell_type": "code",
   "execution_count": null,
   "id": "a07b204e",
   "metadata": {},
   "outputs": [],
   "source": [
    "msg_array = []\n",
    "# Create an empty RDD\n",
    "columns = []\n",
    "iteration = 0\n",
    "first_update = True\n",
    "# Create empty schema\n",
    "\n"
   ]
  },
  {
   "cell_type": "code",
   "execution_count": null,
   "id": "3a336330",
   "metadata": {},
   "outputs": [],
   "source": [
    "len(columns)"
   ]
  },
  {
   "cell_type": "markdown",
   "id": "b5bf0d8d",
   "metadata": {},
   "source": [
    "Initialize a Panda Dataframe batch consumer"
   ]
  },
  {
   "cell_type": "code",
   "execution_count": null,
   "id": "1c036884",
   "metadata": {},
   "outputs": [],
   "source": [
    "countDF = pd.DataFrame()"
   ]
  },
  {
   "cell_type": "markdown",
   "id": "aaf0bc0c",
   "metadata": {},
   "source": [
    "Draw plots periodically"
   ]
  },
  {
   "cell_type": "code",
   "execution_count": null,
   "id": "2ea386a5",
   "metadata": {},
   "outputs": [],
   "source": [
    "\n",
    "\n",
    "def plot_update(accidents):\n",
    "    global first_update, fig, iteration\n",
    "    answerDF = accidents.dropna()\n",
    "\n",
    "    answerDF[\"End_Lat\"] = pd.to_numeric(answerDF[\"End_Lat\"])\n",
    "    answerDF[\"End_Lng\"] = pd.to_numeric(answerDF[\"End_Lng\"])\n",
    "    answerDF['Count']=1\n",
    "    \n",
    "\n",
    "    if first_update:\n",
    "        fig = px.density_mapbox(answerDF, lat='End_Lat', lon='End_Lng', z='Count',mapbox_style=\"stamen-terrain\")\n",
    "        first_update = False\n",
    "    else:\n",
    "        fig.add_densitymapbox(lat=answerDF['End_Lat'], lon=answerDF['End_Lng'], z=answerDF['Count'])\n",
    "\n",
    "    heatmap_file_name = f'heatmaps.html'\n",
    "    plotly.offline.plot(fig, filename=heatmap_file_name)\n",
    "    iteration += 1"
   ]
  },
  {
   "cell_type": "markdown",
   "id": "f623cf56",
   "metadata": {},
   "source": [
    "Start consuming in a parallel thread"
   ]
  },
  {
   "cell_type": "code",
   "execution_count": null,
   "id": "00d0191c",
   "metadata": {},
   "outputs": [],
   "source": [
    "\n",
    "# Create an empty RDD with empty schema\n",
    "def parallel_fetch(): \n",
    "    while(True):\n",
    "        for message in consumer:\n",
    "            global columns, msg_array\n",
    "            res = message.value.decode('UTF-8').strip('][').split(', ')\n",
    "            res = [i.replace('\"', '') for i in res]\n",
    "            if len(columns) == 0:\n",
    "                columns = res\n",
    "                continue\n",
    "\n",
    "\n",
    "            msg_array.append(res)\n",
    "            if(len(msg_array) == 100000):\n",
    "                main_dataframe = pd.DataFrame(msg_array, columns =columns)\n",
    "                msg_array = []\n",
    "                plot_update(main_dataframe)\n",
    "        \n",
    "           \n",
    "                \n",
    "            \n",
    "                \n",
    "                   \n",
    "            \n",
    "t1 = threading.Thread(target=parallel_fetch)\n",
    "t1.start()\n",
    "    "
   ]
  },
  {
   "cell_type": "code",
   "execution_count": null,
   "id": "0faffce9",
   "metadata": {},
   "outputs": [],
   "source": [
    "len(msg_array)"
   ]
  },
  {
   "cell_type": "code",
   "execution_count": null,
   "id": "fc6bb227",
   "metadata": {},
   "outputs": [],
   "source": [
    "msg_array"
   ]
  }
 ],
 "metadata": {
  "kernelspec": {
   "display_name": "Python 3 (ipykernel)",
   "language": "python",
   "name": "python3"
  },
  "language_info": {
   "codemirror_mode": {
    "name": "ipython",
    "version": 3
   },
   "file_extension": ".py",
   "mimetype": "text/x-python",
   "name": "python",
   "nbconvert_exporter": "python",
   "pygments_lexer": "ipython3",
   "version": "3.9.7"
  }
 },
 "nbformat": 4,
 "nbformat_minor": 5
}
