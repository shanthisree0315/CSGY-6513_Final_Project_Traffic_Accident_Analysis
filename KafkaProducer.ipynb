{
 "cells": [
  {
   "cell_type": "code",
   "execution_count": 1,
   "id": "6fcc8547",
   "metadata": {},
   "outputs": [],
   "source": [
    "# import sys\n",
    "# !{sys.executable} -m pip install kafka-python"
   ]
  },
  {
   "cell_type": "code",
   "execution_count": 2,
   "id": "0e49b04e",
   "metadata": {},
   "outputs": [],
   "source": [
    "import time\n",
    "import json\n",
    "from json import dumps\n",
    "from kafka import KafkaProducer\n",
    "from time import sleep\n",
    "import requests as req"
   ]
  },
  {
   "cell_type": "code",
   "execution_count": 3,
   "id": "e76b39eb",
   "metadata": {},
   "outputs": [],
   "source": [
    "brokers='localhost:9092'\n",
    "topic='accident_tmp_input'\n",
    "sleep_time=300"
   ]
  },
  {
   "cell_type": "code",
   "execution_count": 4,
   "id": "fda56822",
   "metadata": {},
   "outputs": [],
   "source": [
    "producer = KafkaProducer(bootstrap_servers=[brokers],value_serializer=lambda x: dumps(x).encode('utf-8'))"
   ]
  },
  {
   "cell_type": "markdown",
   "id": "e34be755",
   "metadata": {},
   "source": [
    "Start an almost forever running producer"
   ]
  },
  {
   "cell_type": "code",
   "execution_count": null,
   "id": "d85f695b",
   "metadata": {},
   "outputs": [
    {
     "name": "stdout",
     "output_type": "stream",
     "text": [
      "Getting new data...\n"
     ]
    }
   ],
   "source": [
    "import csv\n",
    "    \n",
    "with open('US_Accidents_Dec21_updated.csv', 'r') as file:\n",
    "    print(\"Getting new data...\")\n",
    "    reader = csv.reader(file, delimiter = ',')\n",
    "    for messages in reader:\n",
    "        producer.send(topic, messages)\n",
    "        producer.flush()"
   ]
  }
 ],
 "metadata": {
  "kernelspec": {
   "display_name": "Python 3 (ipykernel)",
   "language": "python",
   "name": "python3"
  },
  "language_info": {
   "codemirror_mode": {
    "name": "ipython",
    "version": 3
   },
   "file_extension": ".py",
   "mimetype": "text/x-python",
   "name": "python",
   "nbconvert_exporter": "python",
   "pygments_lexer": "ipython3",
   "version": "3.9.7"
  }
 },
 "nbformat": 4,
 "nbformat_minor": 5
}
